{
 "cells": [
  {
   "cell_type": "code",
   "execution_count": 104,
   "id": "7774c1c5-7cc7-457b-8150-af293854d2c5",
   "metadata": {},
   "outputs": [
    {
     "name": "stdin",
     "output_type": "stream",
     "text": [
      "\n",
      "🏟️Find a stadium (enter [key] to see instructions)🏟️ stadium\n"
     ]
    },
    {
     "name": "stdout",
     "output_type": "stream",
     "text": [
      "Hey! No matched result! Wanna try again?\n",
      "hint: you can type 'all' to see all the stadiums\n"
     ]
    },
    {
     "name": "stdin",
     "output_type": "stream",
     "text": [
      "\n",
      "🏟️Find a stadium (enter [key] to see instructions)🏟️ all\n"
     ]
    },
    {
     "name": "stdout",
     "output_type": "stream",
     "text": [
      "American Family Field\n",
      "Angel Stadium\n",
      "Busch Stadium\n",
      "Chase Field\n",
      "Citi Field\n",
      "Citizens Bank Park\n",
      "Comerica Park\n",
      "Coors Field\n",
      "Dodger Stadium\n",
      "Fenway Park\n",
      "Globe Life Field\n",
      "Great American Ball Park\n",
      "Guaranteed Rate Field\n",
      "Kauffman Stadium\n",
      "LoanDepot Park\n",
      "Minute Maid Park\n",
      "Nationals Park\n",
      "Oakland Coliseum\n",
      "Oracle Park\n",
      "Oriole Park at Camden Yards\n",
      "Petco Park\n",
      "PNC Park\n",
      "Progressive Field\n",
      "Rogers Centre\n",
      "T-Mobile Park\n",
      "Target Field\n",
      "Tropicana Field\n",
      "Truist Park\n",
      "Wrigley Field\n",
      "Yankee Stadium\n"
     ]
    },
    {
     "name": "stdin",
     "output_type": "stream",
     "text": [
      "\n",
      "🏟️Find a stadium (enter [key] to see instructions)🏟️ stop\n"
     ]
    }
   ],
   "source": [
    "while True:\n",
    "    stadium = input('\\n🏟️Find a stadium (enter [key] to see instructions)🏟️')\n",
    "    if stadium == 'stop':\n",
    "        break\n",
    "    elif stadium == 'all':\n",
    "        key = list(mlb_stadiums.keys())\n",
    "        print(*key, sep = \"\\n\")\n",
    "    elif stadium == 'key':\n",
    "        print('\\n⚾⚾⚾⚾⚾⚾⚾⚾⚾⚾⚾⚾⚾⚾⚾\\n')\n",
    "        print('Enter the MLB stadium name or the wiki url to display the stadium vector graphic\\n')\n",
    "        print('[stop] --- exit program\\n')\n",
    "        print('[random/leave it blank] --- get a random stadium\\n')\n",
    "        print('[all] --- get current stadium list\\n')\n",
    "        print('[key] --- get instructions\\n')\n",
    "        print('--ENJOY SEARCHING--\\n ')\n",
    "        print('⚾⚾⚾⚾⚾⚾⚾⚾⚾⚾⚾⚾⚾⚾⚾\\n')\n",
    "    else:\n",
    "        import wikipedia\n",
    "        import requests\n",
    "        import json\n",
    "        from bs4 import BeautifulSoup\n",
    "        \n",
    "        WIKI_REQUEST = 'https://en.wikipedia.org/wiki/List_of_current_Major_League_Baseball_stadiums'\n",
    "        response = requests.get(WIKI_REQUEST)\n",
    "        soup = BeautifulSoup(response.text)\n",
    "        table = soup.find('table',{'class':\"wikitable sortable plainrowheaders\"})\n",
    "        tr = table.find_all('tr')\n",
    "        mlb_stadiums = {}\n",
    "        for i in tr:\n",
    "            td = i.find_all('td')\n",
    "            th = i.find_all('th')\n",
    "            wiki = 'https://en.wikipedia.org/'\n",
    "            if td != []:\n",
    "                style_yes = i.get('style')\n",
    "                if style_yes is not None:\n",
    "                    title = td[1].find('a').get('title')\n",
    "                    url = wiki + td[1].find('a').get('href')\n",
    "                else:\n",
    "                    title = th[0].find('a').get('title')\n",
    "                    url = wiki + th[0].find('a').get('href')\n",
    "                mlb_stadiums[title] = url\n",
    "        \n",
    "        \n",
    "        def get_pic(page_url):\n",
    "            response = requests.get(page_url)\n",
    "            soup = BeautifulSoup(response.text)\n",
    "            table_re = soup.find('table',{'class':'infobox vcard'}).find_all(lambda tag: tag.name == 'td' and tag.get('class') == ['infobox-data'])\n",
    "            for item in table_re:\n",
    "                re = item.find('a',{'class': 'image'})\n",
    "                if re is not None:\n",
    "                    url = 'https://en.wikipedia.org/' + re.get('href')\n",
    "            response = requests.get(url)\n",
    "            soup = BeautifulSoup(response.text)\n",
    "            full_pic_link = 'https:' + soup.find('div',{'class': \"fullImageLink\"}).find('a').get('href')\n",
    "            return(full_pic_link)\n",
    "\n",
    "        \n",
    "        def stadium_finder(word = None):\n",
    "            if (word is None) | (word == 'random')|(word == ''):\n",
    "                import random\n",
    "                stad, url =  random.choice(list(mlb_stadiums.items()))\n",
    "            elif word in mlb_stadiums.keys():\n",
    "                stad = word\n",
    "                url = mlb_stadiums[word]\n",
    "            elif word in mlb_stadiums.values():\n",
    "                url = word\n",
    "                stad = list(mlb_stadiums.keys())[list(mlb_stadiums.values()).index(word)]\n",
    "            else:\n",
    "                print(f\"Hey! No matched result! Wanna try again?\\nhint: you can type 'all' to see all the stadiums\")\n",
    "                return None, None\n",
    "            return stad, url\n",
    "\n",
    "                \n",
    "        def show_svg(url):\n",
    "            from IPython.display import SVG, display\n",
    "            display(SVG(url = url))\n",
    "\n",
    "            \n",
    "        stad, url = stadium_finder(stadium)\n",
    "        if stad is not None:\n",
    "            link = get_pic(url)\n",
    "            print(f'This is the {stad} Stadium')\n",
    "            print(url)\n",
    "            show_svg(link)"
   ]
  },
  {
   "cell_type": "code",
   "execution_count": null,
   "id": "e1bcbdc5-ab2c-49ce-8015-e9210e9c632a",
   "metadata": {},
   "outputs": [],
   "source": []
  }
 ],
 "metadata": {
  "kernelspec": {
   "display_name": "Python 3 (ipykernel)",
   "language": "python",
   "name": "python3"
  },
  "language_info": {
   "codemirror_mode": {
    "name": "ipython",
    "version": 3
   },
   "file_extension": ".py",
   "mimetype": "text/x-python",
   "name": "python",
   "nbconvert_exporter": "python",
   "pygments_lexer": "ipython3",
   "version": "3.9.7"
  }
 },
 "nbformat": 4,
 "nbformat_minor": 5
}
